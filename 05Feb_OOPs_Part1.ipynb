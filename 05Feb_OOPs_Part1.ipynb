{
 "cells": [
  {
   "cell_type": "code",
   "execution_count": null,
   "id": "26500ce4-7296-4c11-9700-d6eade7ddec8",
   "metadata": {},
   "outputs": [],
   "source": [
    "Q1. Explain Class and Object with respect to Object-Oriented Programming. Give a suitable example."
   ]
  },
  {
   "cell_type": "code",
   "execution_count": null,
   "id": "31fe6c7d-d743-49e8-94b1-2a615cd1a7b5",
   "metadata": {},
   "outputs": [],
   "source": [
    "Ans:- A class is a template or a blueprint that describes the attributs and behaviors of an object.\n",
    "It defines the properties and methods that an object of that class will have. A class can be thought\n",
    "of as a blueprint for creating objects. For example, you could create a class \"Car\" that defines the\n",
    "properties and methods that all cars should have.\n",
    "      An object, on the other hand, is an instance of a class. It is a concrete representation of the\n",
    "class, with its own unique and state. An object cac be created by instantiating a class. For example,\n",
    "you could create an object called \"myCar\" by instantiating the \"Car\" class. This object would have the\n",
    "properties and methods defined in the \"Car\" class.\n",
    "      Example is given below:"
   ]
  },
  {
   "cell_type": "code",
   "execution_count": 16,
   "id": "4431c7fa-a905-454f-9fb5-6e9a3c85170b",
   "metadata": {},
   "outputs": [],
   "source": [
    "class Car:\n",
    "    def __init__(self, make, model, year):\n",
    "        self.make = make\n",
    "        self.model = model\n",
    "        self.year = year\n",
    "        self.current_speed = 0\n",
    "\n",
    "my_car = Car(\"Toyota\", \"Corolla\", 2023)\n"
   ]
  },
  {
   "cell_type": "code",
   "execution_count": 17,
   "id": "acf2155d-d0ad-4ca4-901d-6c6452050a50",
   "metadata": {},
   "outputs": [
    {
     "data": {
      "text/plain": [
       "'Toyota'"
      ]
     },
     "execution_count": 17,
     "metadata": {},
     "output_type": "execute_result"
    }
   ],
   "source": [
    "my_car.make"
   ]
  },
  {
   "cell_type": "code",
   "execution_count": null,
   "id": "f5b60c46-b4a3-4eb8-976d-aa6624987fa7",
   "metadata": {},
   "outputs": [],
   "source": []
  },
  {
   "cell_type": "code",
   "execution_count": null,
   "id": "1f1854bc-a39e-4739-b4d3-daeefa130e28",
   "metadata": {},
   "outputs": [],
   "source": []
  },
  {
   "cell_type": "code",
   "execution_count": null,
   "id": "cafde51a-4193-446f-a219-ba8a2e9db3b9",
   "metadata": {},
   "outputs": [],
   "source": [
    "Q2. Name the four pillars of OOPs."
   ]
  },
  {
   "cell_type": "code",
   "execution_count": null,
   "id": "739c4d46-c943-43b9-ad8f-261f8f9a4f4b",
   "metadata": {},
   "outputs": [],
   "source": [
    "Ans:-The four pillars of OOPs are:\n",
    "    <I> Inheritance\n",
    "    <II> Polymorphism\n",
    "    <III> Encapsulation\n",
    "    <IV> Abstraction"
   ]
  },
  {
   "cell_type": "code",
   "execution_count": null,
   "id": "61a5069c-dc01-4c95-aa75-b21371bdad9b",
   "metadata": {},
   "outputs": [],
   "source": []
  },
  {
   "cell_type": "code",
   "execution_count": null,
   "id": "fd9ddb77-ea3e-4f73-8eb2-87d06b82e836",
   "metadata": {},
   "outputs": [],
   "source": []
  },
  {
   "cell_type": "code",
   "execution_count": null,
   "id": "4689a029-345d-4a92-b15c-7c46cceea506",
   "metadata": {},
   "outputs": [],
   "source": [
    "Q3. Explain why the __init__() function is used. Give a suitable example."
   ]
  },
  {
   "cell_type": "code",
   "execution_count": null,
   "id": "4dbe1bc5-0c4b-4718-b1cd-7aa45d26a602",
   "metadata": {},
   "outputs": [],
   "source": [
    "Ans:-In Python, the __init__() function is a special method that is used to initialize an object of a class.\n",
    "It is called automatically when an object is created, and is used to set the initial values of the object's \n",
    "attributes. It helps to maintain consistency and reduce errors in the code."
   ]
  },
  {
   "cell_type": "code",
   "execution_count": 18,
   "id": "24015226-e616-4b0e-8004-c611df67f92b",
   "metadata": {},
   "outputs": [
    {
     "name": "stdout",
     "output_type": "stream",
     "text": [
      "50\n"
     ]
    }
   ],
   "source": [
    "class Rectangle:\n",
    "    def __init__(self, width, height):\n",
    "        self.width = width\n",
    "        self.height = height\n",
    "        \n",
    "    def area(self):\n",
    "        return self.width* self.height\n",
    "    \n",
    "my_rect = Rectangle(10,5)\n",
    "print(my_rect.area())"
   ]
  },
  {
   "cell_type": "code",
   "execution_count": null,
   "id": "ecb47d08-ae7d-4c5d-a229-aabe50b94df8",
   "metadata": {},
   "outputs": [],
   "source": []
  },
  {
   "cell_type": "code",
   "execution_count": null,
   "id": "84e14515-3b95-4609-af01-9b6c4a67668f",
   "metadata": {},
   "outputs": [],
   "source": []
  },
  {
   "cell_type": "code",
   "execution_count": null,
   "id": "2286f7af-343a-4475-ba15-cf0fa8147c9a",
   "metadata": {},
   "outputs": [],
   "source": [
    "Q4. Why self is used in OOPs?"
   ]
  },
  {
   "cell_type": "code",
   "execution_count": null,
   "id": "1e5c7f38-ab31-4b7a-8f83-99d7eee22083",
   "metadata": {},
   "outputs": [],
   "source": [
    "Ans:-In Python, self is a special parameter that is used in object-oriented programming to refer\n",
    "to the current instance of the class. It is a convention in Python to use self as the name of the\n",
    "first parameter in instance methods, but it is not a keyword.\n",
    "     When a method is called on an object, self is automatically passed as the first argument to \n",
    "the method. This allows the method to access and modify the object's attributes and methods."
   ]
  },
  {
   "cell_type": "code",
   "execution_count": null,
   "id": "1118c185-2447-4a3b-9273-f9a9db580792",
   "metadata": {},
   "outputs": [],
   "source": []
  },
  {
   "cell_type": "code",
   "execution_count": null,
   "id": "cf57a942-7572-47fe-b91c-84fe2c6f7aae",
   "metadata": {},
   "outputs": [],
   "source": []
  },
  {
   "cell_type": "code",
   "execution_count": null,
   "id": "7906a6aa-effc-4ff7-a84d-5efb036b0a36",
   "metadata": {},
   "outputs": [],
   "source": [
    "Q5. What is inheritance? Give an example for each type of inheritance."
   ]
  },
  {
   "cell_type": "code",
   "execution_count": null,
   "id": "b0b47c26-beae-478e-b271-7b79301e659b",
   "metadata": {},
   "outputs": [],
   "source": [
    "Ans:-Inheritance is a fundamental concept in object-oriented programming that allows a class to \n",
    "inherit properties and behavior from another class. The class that inherits from another class is \n",
    "called the derived class or subclass, while the class that is being inherited from is called the \n",
    "base class or superclass.\n",
    "\n",
    "Python supports multiple types of inheritance:\n",
    "     1. Single inheritance: In single inheritance, a derived class inherits from a single base class. \n",
    "This is the most common type of inheritance. "
   ]
  },
  {
   "cell_type": "code",
   "execution_count": 19,
   "id": "58f5411f-8a81-4eac-9cb7-8ca4a135a244",
   "metadata": {},
   "outputs": [
    {
     "name": "stdout",
     "output_type": "stream",
     "text": [
      "Fido\n",
      "Woof!\n"
     ]
    }
   ],
   "source": [
    "class Animal:\n",
    "    def __init__(self, name):\n",
    "        self.name = name\n",
    "\n",
    "    def speak(self):\n",
    "        raise NotImplementedError(\"Subclass must implement abstract method\")\n",
    "\n",
    "class Dog(Animal):\n",
    "    def speak(self):\n",
    "        return \"Woof!\"\n",
    "\n",
    "dog = Dog(\"Fido\")\n",
    "print(dog.name)\n",
    "print(dog.speak())\n"
   ]
  },
  {
   "cell_type": "code",
   "execution_count": null,
   "id": "8ec7d82f-2aa2-48f4-b7f0-548448ca35c0",
   "metadata": {},
   "outputs": [],
   "source": [
    "       2. Multiple inheritance: In multiple inheritance, a derived class inherits from multiple base classes."
   ]
  },
  {
   "cell_type": "code",
   "execution_count": 20,
   "id": "28b33e28-2b31-498f-b3fd-4d08d72ec439",
   "metadata": {},
   "outputs": [
    {
     "name": "stdout",
     "output_type": "stream",
     "text": [
      "Fido\n",
      "True\n",
      "Woof!\n"
     ]
    }
   ],
   "source": [
    "class Animal:\n",
    "    def __init__(self, name):\n",
    "        self.name = name\n",
    "\n",
    "class Mammal:\n",
    "    def has_hair(self):\n",
    "        return True\n",
    "\n",
    "class Dog(Animal, Mammal):\n",
    "    def speak(self):\n",
    "        return \"Woof!\"\n",
    "\n",
    "dog = Dog(\"Fido\")\n",
    "print(dog.name)  # Output: \"Fido\"\n",
    "print(dog.has_hair())  # Output: True\n",
    "print(dog.speak())  # Output: \"Woof!\"\n"
   ]
  },
  {
   "cell_type": "code",
   "execution_count": null,
   "id": "28e642a3-8c2a-423c-a68a-49508da68631",
   "metadata": {},
   "outputs": [],
   "source": [
    "        3. Multilevel inheritance: In multilevel inheritance, a derived class inherits from a base class, \n",
    "which in turn inherits from another base class."
   ]
  },
  {
   "cell_type": "code",
   "execution_count": 21,
   "id": "20b7bfc1-7d7a-462c-bccc-d2b9c6bb8ff1",
   "metadata": {},
   "outputs": [
    {
     "name": "stdout",
     "output_type": "stream",
     "text": [
      "Fido\n",
      "True\n",
      "Woof!\n"
     ]
    }
   ],
   "source": [
    "class Animal:\n",
    "    def __init__(self, name):\n",
    "        self.name = name\n",
    "\n",
    "class Mammal(Animal):\n",
    "    def has_hair(self):\n",
    "        return True\n",
    "\n",
    "class Dog(Mammal):\n",
    "    def speak(self):\n",
    "        return \"Woof!\"\n",
    "\n",
    "dog = Dog(\"Fido\")\n",
    "print(dog.name)  # Output: \"Fido\"\n",
    "print(dog.has_hair())  # Output: True\n",
    "print(dog.speak())  # Output: \"Woof!\"\n"
   ]
  },
  {
   "cell_type": "code",
   "execution_count": null,
   "id": "bf712d89-8207-4ab7-9c1e-1e392c1292bd",
   "metadata": {},
   "outputs": [],
   "source": [
    "     Hierarchical inheritance: In hierarchical inheritance, a derived class inherits from a single base class, but multiple derived classes can inherit from the same base class."
   ]
  },
  {
   "cell_type": "code",
   "execution_count": null,
   "id": "236fc1a6-472d-4a4c-b2bf-788761553665",
   "metadata": {},
   "outputs": [],
   "source": [
    "class Animal:\n",
    "    def __init__(self, name):\n",
    "        self.name = name\n",
    "\n",
    "class Cat(Animal):\n",
    "    def speak(self):\n",
    "        return \"Meow!\"\n",
    "\n",
    "class Dog(Animal):\n",
    "    def speak(self):\n",
    "        return \"Woof!\"\n",
    "\n",
    "cat = Cat(\"Whiskers\")\n",
    "dog = Dog(\"Fido\")\n",
    "print(cat.name)  # Output: \"Whiskers\"\n",
    "print(cat.speak())  # Output: \"Meow!\"\n",
    "print(dog.name)  # Output: \"Fido\"\n",
    "print(dog.speak())  # Output: \"Woof!\"\n"
   ]
  }
 ],
 "metadata": {
  "kernelspec": {
   "display_name": "Python 3 (ipykernel)",
   "language": "python",
   "name": "python3"
  },
  "language_info": {
   "codemirror_mode": {
    "name": "ipython",
    "version": 3
   },
   "file_extension": ".py",
   "mimetype": "text/x-python",
   "name": "python",
   "nbconvert_exporter": "python",
   "pygments_lexer": "ipython3",
   "version": "3.10.8"
  }
 },
 "nbformat": 4,
 "nbformat_minor": 5
}
